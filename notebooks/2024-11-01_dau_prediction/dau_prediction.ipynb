{
 "cells": [
  {
   "cell_type": "markdown",
   "id": "ca32cc58-d06b-4ba2-927b-63b5d65f1e20",
   "metadata": {},
   "source": [
    "# Modeling DAU, WAU, MAU with Markov chain"
   ]
  },
  {
   "cell_type": "markdown",
   "id": "ea99f6d2-74c0-413d-8851-1a4a827d0f8e",
   "metadata": {},
   "source": [
    "Doubtlessly, DAU, WAU, and MAU are critical business metrics. An article [\"How Duolingo reignited user growth\"](https://www.lennysnewsletter.com/p/how-duolingo-reignited-user-growth) by [Jorge Mazal](https://www.linkedin.com/in/jorgemazal/), former CPO of Duolingo is #1 the Growth section of Lenny's Newsletter blog. In this article Jorge payed special attention to the methodology Duolingo used to model DAU metrics (see another article [\"Meaningful metrics: how data sharpened the focus of product teams\"](https://blog.duolingo.com/growth-model-duolingo/) by [Erin Gustafson](https://blog.duolingo.com/author/erin/)). This methodology has multiple strenghts but I focus here on how one can use it for DAU forecasting.\n",
    "\n",
    "New year is coming soon, so many companies are planning their budgets for the next year these days. Cost estimations are often require DAU forecast. In this article I'll show you how you can get this prediction using the Duolingo's growth model and share a DAU & MAU \"calculator\" designed as a Google Spreadsheet calculator."
   ]
  },
  {
   "cell_type": "markdown",
   "id": "f79d1d98-7e8e-4d18-a16e-44e447c3cd67",
   "metadata": {
    "editable": true,
    "slideshow": {
     "slide_type": ""
    },
    "tags": []
   },
   "source": [
    "## Methodology\n",
    "\n",
    "A quick recap on how the [Duolingo's growth model](https://blog.duolingo.com/growth-model-duolingo/) works. At day $d$ ($d=1,2,\\ldots,$) of a user's lifetime the user can be in one of the following 7 (mutually-exclusive) states:\n",
    "\n",
    "<table>\n",
    "<thead><tr><th>state</th><th>d = 1</th><th>is active today</th><th>was active in [d-6, d-1]</th><th>was active in [d-29, d-7]</th><th>was active before d-30</th></tr></thead>\n",
    "<tr><td>new</td><td>✅</td><td>❓</td><td>❌</td><td>❌</td><td>❌</td></tr>\n",
    "<tr><td>current</td><td>❌</td><td>✅</td><td>✅</td><td>❓</td><td>❓</td></tr>\n",
    "<tr><td>reactivated</td><td>❌</td><td>✅</td><td>❌</td><td>✅</td><td>❓</td></tr>\n",
    "<tr><td>resurrected</td><td>❌</td><td>✅</td><td>❌</td><td>❌</td><td>✅</td></tr>\n",
    "<tr><td>at_risk_wau</td><td>❌</td><td>❌</td><td>✅</td><td>❓</td><td>❓</td></tr>\n",
    "<tr><td>at_risk_mau</td><td>❌</td><td>❌</td><td>❌</td><td>✅</td><td>❓</td></tr>\n",
    "<tr><td>dormant</td><td>❌</td><td>❌</td><td>❌</td><td>❌</td><td>✅</td></tr>\n",
    "</table>\n",
    "\n",
    "Having these states defined (as set $S$), we can consider a user's lifetime trajectory as a Markov chain. Let $M$ be a transition matrix associated with this Markov chain: $m_{i, j} = P(s_j | s_i)$ are the probabilities that a user moves to state $s_j$ right after being at state $s_i$, $s_i, s_j \\in S$. The matrix values are easily fetched from the historical data.\n",
    "\n",
    "The beauty and simplicity of this approach is that matrix $M$ fully describes states of the all users in the future. Suppose that vector $u_0$ of length 7 contains the counts of users being in certain states at some calendar day denoted as 0. Thus, according to the Markov model, in the next day $u_1$ we expect to have the following amount of users:\n",
    "\n",
    "$$\n",
    "\\underbrace{\n",
    "\\begin{pmatrix}  \\#New_1 \\\\ \\#Current_1 \\\\ \\#Reactivated_1 \\\\ \\#Resurrected_1 \\\\ \\#AtRiskWau_1 \\\\ \\#AtRiskMau_1 \\\\ \\#Dormant_1 \\end{pmatrix}\n",
    "}_{u_1} = M^T \\cdot \n",
    "\\underbrace{\n",
    "\\begin{pmatrix}  \\#New_0 \\\\ \\#Current_0 \\\\ \\#Reactivated_0 \\\\ \\#Resurrected_0 \\\\ \\#AtRiskWau_0 \\\\ \\#AtRiskMau_0 \\\\ \\#Dormant_0 \\end{pmatrix}\n",
    "}_{u_0}\n",
    "$$\n",
    "\n",
    "Applying this formula recursevely, we derive the amount of the users at any arbitrary day $t > 0$ in the future. The only thing we need to provide despite of the initial distribution $u_0$ is to the amount of new users that would appear in the product each day in the future. We'll get it by using historical data on new users appeared in the past and appyling the [prophet](http://facebook.github.io/prophet/) library.\n",
    "\n",
    "Now, having $u_t$ calculated, we can calculate DAU values at day t:\n",
    "$$\\begin{equation} DAU_t = \\#New_t + \\#Current_t + \\#Reactivated_t +\\#Resurrected_t \\end{equation}.$$\n",
    "\n",
    "Additionally, we can easily calculate WAU and MAU metrics:\n",
    "$$WAU_t = DAU_t +\\#AtRiskWau_t,$$\n",
    "$$MAU_t = DAU_t +\\#AtRiskWau_t + \\#AtRiskMau_t.$$\n",
    "\n",
    "Finally, the algorithm looks like this:\n",
    "\n",
    "1. Calculate initial counts $u_0$ corresponding to the day right before prediction.\n",
    "3. For each prediction day $t=1, ..., T$ calculate the expected amount of new users $\\#New_1, \\ldots, \\#New_T$.\n",
    "4. Calculate recursively $u_{t+1} = M^T u_t$.\n",
    "5. Calculate DAU, WAU, MAU for each prediction day $t=1, ..., T$."
   ]
  },
  {
   "cell_type": "markdown",
   "id": "f8075292-57f9-4129-8e2d-e9ed3d5fd8cb",
   "metadata": {},
   "source": [
    "## Getting the states\n",
    "\n"
   ]
  },
  {
   "cell_type": "markdown",
   "id": "3e98a200-ebfc-452d-85c6-6276d0f3ba27",
   "metadata": {},
   "source": [
    "## Predicting new users amount"
   ]
  },
  {
   "cell_type": "markdown",
   "id": "b4c23b1d-e20b-40a9-b9ec-df4350433243",
   "metadata": {},
   "source": [
    "## Predicting DAU"
   ]
  },
  {
   "cell_type": "markdown",
   "id": "ee509f55-820e-41a1-ace6-07862e3198c3",
   "metadata": {},
   "source": [
    "## Prediction testing"
   ]
  },
  {
   "cell_type": "markdown",
   "id": "8628d964-eaa8-429b-bbe2-97e0b1ffec80",
   "metadata": {},
   "source": [
    "## Discussion"
   ]
  },
  {
   "cell_type": "markdown",
   "id": "7e1ba025-025a-42a3-af59-9a886f82e8f5",
   "metadata": {},
   "source": [
    "## Conclusions\n",
    "\n"
   ]
  }
 ],
 "metadata": {
  "kernelspec": {
   "display_name": "python3.12",
   "language": "python",
   "name": "python3.12"
  },
  "language_info": {
   "codemirror_mode": {
    "name": "ipython",
    "version": 3
   },
   "file_extension": ".py",
   "mimetype": "text/x-python",
   "name": "python",
   "nbconvert_exporter": "python",
   "pygments_lexer": "ipython3",
   "version": "3.12.7"
  }
 },
 "nbformat": 4,
 "nbformat_minor": 5
}
